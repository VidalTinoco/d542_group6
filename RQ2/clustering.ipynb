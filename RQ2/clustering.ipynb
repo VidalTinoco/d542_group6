{
 "cells": [
  {
   "cell_type": "code",
   "execution_count": 2,
   "id": "8b1bc888-a184-4208-b273-a7d0934e8e1f",
   "metadata": {},
   "outputs": [],
   "source": [
    "import pandas as pd\n",
    "import numpy as np\n",
    "import re"
   ]
  },
  {
   "cell_type": "markdown",
   "id": "b97d06d8-bb20-4a9f-a254-d9969668b585",
   "metadata": {},
   "source": [
    "### Cleaning"
   ]
  },
  {
   "cell_type": "code",
   "execution_count": 232,
   "id": "30014891-7138-448a-abb2-99a6d684b142",
   "metadata": {},
   "outputs": [],
   "source": [
    "df = pd.read_csv('NL_code_difference_clean.csv', na_values=['', 'nan'])\n",
    "\n",
    "def clean_df(df, filter_state=False, state=\"CLOSED\", merged=False):\n",
    "    df = df.drop_duplicates(subset=['Prompt'], keep='first')\n",
    "    \n",
    "    # replace newlines with empty space and strip\n",
    "    df.loc[:, 'difference'] = df['difference'].str.replace(r'\\n+', ' ', regex=True).str.strip()\n",
    "    \n",
    "    # drop rows where 'difference' is an empty string (indicates prompt was just code)\n",
    "    df = df[df['difference'].notna() & (df['difference'] != '')]\n",
    "\n",
    "    if filter_state:\n",
    "        df = df[df['State'] == state].reset_index(drop=True)\n",
    "\n",
    "    if merged:\n",
    "        df = df.groupby('conversation_id').agg({\n",
    "            'difference': lambda x: ' '.join(x.dropna().astype(str)) if not x.dropna().empty else None,  # avoid empty groups\n",
    "            'State': 'first',       # keep first value of State (same for all prompts in a conversation)\n",
    "            'numPrompts': 'first',  # keep first value of numPrompts\n",
    "        }).reset_index()\n",
    "\n",
    "    return df"
   ]
  },
  {
   "cell_type": "code",
   "execution_count": 239,
   "id": "8edbc82a-d00d-415b-ab33-d86bcedbf443",
   "metadata": {
    "scrolled": true
   },
   "outputs": [],
   "source": [
    "df_full = clean_df(df)\n",
    "df_open = clean_df(df, True, \"OPEN\")\n",
    "df_closed = clean_df(df, True)\n",
    "df_merged = clean_df(df, merged=True)\n",
    "df_closed_merged = clean_df(df, True, True)"
   ]
  },
  {
   "cell_type": "markdown",
   "id": "4be6eaee-b65f-44e1-a22f-fac2fdfa5ffb",
   "metadata": {},
   "source": [
    "### Functions"
   ]
  },
  {
   "cell_type": "code",
   "execution_count": 253,
   "id": "e5acf33f-9cc7-4fad-b767-58fb9bb52528",
   "metadata": {},
   "outputs": [],
   "source": [
    "import spacy\n",
    "from nltk.corpus import stopwords\n",
    "\n",
    "# Load SpaCy model\n",
    "nlp = spacy.load('en_core_web_sm')\n",
    "\n",
    "def create_custom_stopwords():\n",
    "    \"\"\"Create custom stopwords list that preserves prompt structure words.\"\"\"\n",
    "    stop_words = set(stopwords.words('english'))\n",
    "    \n",
    "    structure_words = {\n",
    "        'what', 'how', 'why', 'when', 'where', 'which',\n",
    "        'can', 'could', 'would', 'should',\n",
    "        'explain', 'show', 'tell', 'help', 'write', 'make', 'create',\n",
    "        'is', 'are', 'was', 'were',\n",
    "        'i', 'you', 'it',\n",
    "        'do', 'does', 'did',\n",
    "        'this', 'that',\n",
    "        'mean', 'means',\n",
    "        'need', 'want'\n",
    "    }\n",
    "    \n",
    "    return list(stop_words - structure_words)\n",
    "\n",
    "def tokenize(text):\n",
    "    text = re.sub(r'http\\S+|www\\S+|https\\S+', '', text) # Remove URLs\n",
    "    text = re.sub(r'[a-zA-Z]:\\\\[\\\\\\S|*\\S]?.*|/\\S+', '', text) # Remove file paths\n",
    "    \n",
    "    # Remove common code terms\n",
    "    code_terms = {\n",
    "        'github', 'com', 'http', 'https', 'localhost', 'api',\n",
    "        'json', 'xml', 'html', 'css', 'js', 'php', 'sql',\n",
    "        'readme', 'md', 'txt', 'pdf', 'doc', 'docx'\n",
    "    }\n",
    "\n",
    "    # Process the text with SpaCy (convert to lowercase before processing)\n",
    "    doc = nlp(text.lower())\n",
    "    \n",
    "    # Extract tokens (using lemmatization)\n",
    "    tokens = [token.lemma_ for token in doc if not token.is_punct \n",
    "              and not token.is_space \n",
    "              and token.is_alpha \n",
    "              and token.text not in code_terms\n",
    "              and token.text not in custom_stopwords]\n",
    "\n",
    "    deps = [token.dep_ for token in doc if not token.is_punct \n",
    "            and not token.is_space \n",
    "            and token.is_alpha \n",
    "            and token.text not in code_terms\n",
    "            and token.text not in custom_stopwords]\n",
    "    \n",
    "    return tokens, deps\n",
    "\n",
    "def count_dependencies(deps):\n",
    "    \"\"\"Extract binary dependency relations as features.\"\"\"\n",
    "    # dep_features = dict.fromkeys([\n",
    "    #     'nsubj', 'nsubjpass', 'dobj', 'iobj', 'attr', 'expl', 'ccomp', 'advcl',\n",
    "    #     'acl', 'relcl', 'amod', 'advmod', 'neg', 'prt', 'prep', 'pobj',\n",
    "    #     'cc', 'conj', 'appos', 'parataxis'\n",
    "    # ], 0)\n",
    "\n",
    "    dep_features = dict.fromkeys(['nsubj', 'dobj', 'prep', 'pobj', 'attr', 'amod', 'aux', 'root', 'advmod', \n",
    "                                  'ccomp', 'xcomp', 'mark', 'compound', 'det', 'cc', 'conj'], 0)\n",
    "    \n",
    "    for dep in deps:\n",
    "        if dep in dep_features:\n",
    "            dep_features[dep] += 1\n",
    "    \n",
    "    return list(dep_features.values())\n",
    "\n",
    "def get_tokens_deps(df):\n",
    "    tokenized_data = []\n",
    "    dep_features_data = []\n",
    "    \n",
    "    for text in df['difference']:\n",
    "        tokens, deps = tokenize(text)\n",
    "        dep_features = count_dependencies(deps)\n",
    "        tokenized_data.append(\" \".join(tokens))\n",
    "        dep_features_data.append(dep_features)\n",
    "\n",
    "    return tokenized_data, dep_features_data"
   ]
  },
  {
   "cell_type": "markdown",
   "id": "215ef084-a78a-42dc-9ebc-14ecef6bd0ab",
   "metadata": {},
   "source": [
    "### embeddings"
   ]
  },
  {
   "cell_type": "code",
   "execution_count": 165,
   "id": "27683962-31d5-4f3c-99ed-d136ba2a8ef3",
   "metadata": {},
   "outputs": [],
   "source": [
    "import torch\n",
    "from sklearn.cluster import KMeans\n",
    "from transformers import BertTokenizer, BertModel\n",
    "\n",
    "tokenizer = BertTokenizer.from_pretrained(\"bert-base-uncased\")\n",
    "model = BertModel.from_pretrained(\"bert-base-uncased\")\n",
    "\n",
    "def get_embeddings(tokenized_data):\n",
    "    embeddings = []\n",
    "    for tokens in tokenized_data:\n",
    "    # for text in df['difference']: # performed worse when text was not tokenized\n",
    "        inputs = tokenizer(\" \".join(tokens), return_tensors=\"pt\", padding=True, truncation=True)\n",
    "        with torch.no_grad():\n",
    "            outputs = model(**inputs)\n",
    "        cls_embedding = outputs.last_hidden_state[0][0].numpy()\n",
    "        embeddings.append(cls_embedding)\n",
    "    \n",
    "    embeddings = np.array(embeddings)\n",
    "    \n",
    "    return embeddings\n",
    "\n",
    "def get_kmeans(df, features, k=5, show_samples=False):\n",
    "    # e.g. features = embeddings\n",
    "    kmeans = KMeans(n_clusters=k, random_state=42)\n",
    "    kmeans.fit(features)\n",
    "    \n",
    "    df['cluster'] = kmeans.predict(features)\n",
    "    print(df['cluster'].value_counts())\n",
    "\n",
    "    if show_samples:\n",
    "        for i in range(k):\n",
    "            print(f\"Cluster {i}:\")\n",
    "            count = 0\n",
    "            for idx, label in enumerate(kmeans.labels_):\n",
    "                if label == i:\n",
    "                    print(f\"  - {tokenized_data[idx]}\")\n",
    "                    count += 1\n",
    "                if count == 10:  # Stop after printing 5 sentences\n",
    "                    break\n",
    "\n",
    "    return kmeans # return fit model"
   ]
  },
  {
   "cell_type": "code",
   "execution_count": 254,
   "id": "c2f3560c-26b3-43f1-9e5d-679fd0765543",
   "metadata": {},
   "outputs": [
    {
     "name": "stdout",
     "output_type": "stream",
     "text": [
      "done\n"
     ]
    }
   ],
   "source": [
    "custom_stopwords = create_custom_stopwords() # global variable lul\n",
    "\n",
    "tokenized_data, dep_features_data = get_tokens_deps(df_closed)\n",
    "embeddings = get_embeddings(tokenized_data)\n",
    "print('done')"
   ]
  },
  {
   "cell_type": "code",
   "execution_count": 219,
   "id": "efa9ff9b-4c47-4829-baee-0199b7c1e8e8",
   "metadata": {
    "collapsed": true,
    "jupyter": {
     "outputs_hidden": true
    },
    "scrolled": true
   },
   "outputs": [
    {
     "name": "stdout",
     "output_type": "stream",
     "text": [
      "cluster\n",
      "1    97\n",
      "5    73\n",
      "3    70\n",
      "2    59\n",
      "4    18\n",
      "6    18\n",
      "0    11\n",
      "Name: count, dtype: int64\n",
      "Cluster 0:\n",
      "  - I need authorizationurl pass state well\n",
      "  - via code how do you update librecalc file without change formatting various cell\n",
      "  - how could I create use separate proj context worker thread specific ogrcoordinatetransformation use gdal\n",
      "  - example book chapter lesson how can I get implementation keep business logic model avoid use service model\n",
      "  - take this method forward implement it exist class ehre class llamamodel extend llamapretrainedmodel\n",
      "  - person child age birthday like educational toy find gift that be interesting fun thoughtful\n",
      "  - nevermind let leave verification type string I do think it enough benefit separate model\n",
      "  - how implement client client protocol\n",
      "  - provide follow openapi specification please show how I could make request ti this download this url\n",
      "  - it work showing level seem weird should it show info instead level\n",
      "Cluster 1:\n",
      "  - give step step description how compliance audit be complete lower bind average upper bind cost become certify\n",
      "  - why do it mention proc what do this do bindgen\n",
      "  - I get follow error when it be redirect callback this be likely due fact that tokenurl be never use that be what return access token\n",
      "  - auf der seite haben wir das gleiche problem auch hier werden kategorien nicht gesrape hi unser aktueller code\n",
      "  - andere seite diesis produkt wird nicht mitgescraped\n",
      "  - android llm adblocker help write it I use run llm phone content connection should send vpn it should able decide what connection block block\n",
      "  - can you write android kotlin background service which do this include snippet manifest I already main\n",
      "  - remember you want provide custom prompt openai pass it relevant datum it decide what block\n",
      "  - be special consideration go project that employ cgo therefore link libc\n",
      "  - netlify rust mdbook be be way keep cargo install mdbook toc install it every single time I deploy\n",
      "Cluster 2:\n",
      "  - make it executable run it without args run\n",
      "  - make hello world file run that bun run\n",
      "  - I also follow this documentation\n",
      "  - I want it file please use mock database\n",
      "  - this return response\n",
      "  - this be type authentication\n",
      "  - I do not control party app request\n",
      "  - show how I could keep content type dynamic\n",
      "  - why implement it proxy\n",
      "  - already parent class work\n",
      "Cluster 3:\n",
      "  - could you create jest unit test this function\n",
      "  - how can un name enum how be this even possible c header\n",
      "  - be log party app getting authenticate be code endpoint\n",
      "  - yes ir do content type how can I make passport pass content type\n",
      "  - content type seem like important part could it that I use wrong strategy\n",
      "  - be type option what do proxy do can I use it handle tokenurl exchange\n",
      "  - ok hab ich angepasst aber irgendwie klappts noch nicht\n",
      "  - how do I add systemd service unit file package use fpm\n",
      "  - how many line code can you read without break\n",
      "  - I use export axiosinstance everywhere instead axio\n",
      "Cluster 4:\n",
      "  - ich teste mal\n",
      "  - use this\n",
      "  - how get java\n",
      "  - ok list step\n",
      "  - tell\n",
      "  - I go null\n",
      "  - text be aa str\n",
      "  - I do it do work\n",
      "  - let see\n",
      "  - give post lot word\n",
      "Cluster 5:\n",
      "  - I already plugin ready work following manifest note that this be work variable be fill upon request please show how I would authenticate this nextjs passport flow\n",
      "  - I get follow error property request be protect accessible within class method string url string header outgoinghttpheader null string null callback datacallback void\n",
      "  - let take step back I follow documentation I want replicate authentication document consider that I want replicate oauth solution two nextjs typescript file\n",
      "  - I do create separate ogrcoordinatetransformation object worker thread however seem share how can I specify that ogrcoordinatetransformation should it processing context\n",
      "  - another file function showactivityindicator that return give string ui how can I edit follow function utilize export progress first response\n",
      "  - write code add axios interceptor request that insert authentication header bearer token store usercontext custom context react I use typescript\n",
      "  - say application store book chapter lesson be base chapter can many lesson per chapter one chapter per lesson show how business logic method chapter model can write obtain populate multiple lesson chapter use project layout describe ensure that you show how service would utilize this method how it would use route that get lesson associate chapter\n",
      "  - this code be execute mount monacoeditor ts monacoeditor I still see type when import axios ts async datum newlink const axios await axios axios be instal\n",
      "  - I need program which perform following give set url retrieve web page url select random word string return page wrap word string quote send word string google search query get url first result return google compare it current url give set see match print current url first search result url match condition\n",
      "  - I follow bash code I like add list return code that be succesful aside also i like compare return coode this list code return code be contain list mark response success\n",
      "Cluster 6:\n",
      "  - I use package react native image crop picker allow user select video ios device click video package show processing asset string duration time that it take select compress video I would like patch this package that I can return percentage time complete that image processor take it be write objective c use file I do know this language can you help interpret follow code that you can show good place make this change\n",
      "  - I build authentication workflow that involve send email magic link verify user email I want avoid anything database regard magic link I encrypt payload include email it intend it do include expiration currently it certainly could include that encrypt token email query parameter magic link however I realize that I be hard code salt which reduce level security open brute force attack I still like avoid touch database this I do want generate salt put it database I consider put generate salt magic link query string well I realize this reduce security bit I wonder whether practical scenario it really that big issue I can address hole that open I love hear thought this feel free make completely different suggestion I may consider tell that I really should write something database this process I also consider put salt user session I also add feature that allow user enter random number app instead click link number encrypt use method that encrypt value store cookie hopefully that enough context you make recommendation what I should do salt\n",
      "  - thank follow up option I consider this thwarting precompute dictionary attack be primary objective it main vulnerability I try fix be vulnerability I should concern this option do seem complicated implement maintain option that feel safe be it option I think I prefer this option be consideration I should keep mind option I could avoid write database I put value salt cookie attacker would still access it submit it would access salt hack people email however this drawback user unable sign different browser one that request token which I already experience another app something people complain be concern someone hack people email that valid practical scenario option would another downside jwt token approach that it be vulnerable rainbow table well this sound like pretty good solution would it reasonable use totp something I display people type well query param magic link be totps long expect user type keep mind may able copy may use different device look email one type\n",
      "  - ok sound good I satisfied model architecture discuss I consider whether I should include this model application database I should create separate database this I use sqlite database I already separate one cache add another one verification do feel like big issue particularly since model be simple I would actually need prisma manage it please argue side this decision make recommendation\n",
      "  - I think this go back original issue hard code salt can you describe what adversary would do exploit vulnerability perhaps I can do away salt entirely simply encrypt it secret key also consider I could make it encrypt token be valid short period I do store encrypt value database anywhere how would email verification method practically susceptible rainbow table attack would it vulnerable another kind attack I consider what step would attacker follow crack encryption even share salt it impractical be another method encryption I could use that would still allow use share secret key bother salt since I will need store value database anyway\n",
      "  - attacker gain access encryption key would able generate token login anyone it pretty well accept that bad news what I can tell follow totp approach arrive would safe approach even verification table be breach attacker would limit use that would able impersonate user whose verification yet expire reasonably short expiration that would limit number vulnerable user drastically additionally secret key that could lose also would able generate valid token attacker would need get write access database which case probably even big problem anyway apply good security practice around database access already I miss something vulnerability around totp be it correct characterization say that totp be similar spirit what I already except salt instead encryption secret be randomly generate every instance verification save database valid expiration time\n",
      "  - I still feel uncertain it seem like I give simplicity environment variable which I need keep secret couple simple ts method favor database table complex verification process I vulnerable environment variable leak situation where environment variable could leak be someone gain access vm which would actually open lot bad problem either way anyway I start think this be unnecessary work change please weigh option\n",
      "  - introduction deep neural network dnn achieve state art sota result various task image recognition natural language translation autonomous driving deployment environment model be repeatedly execute serve continuous user request name model serve thus it be crucial reduce latency maximize throughput model execution ensure safety save energy improve user experience be two major way execute dnn model deep learning dl framework tensorflow pytorch onnx runtime dispatch operator kernel library cudnn cubla cutlass execution hand dl compiler tensorflow xla tvm automatically generate kernel compilation process give operator various scheduler ansor autotvm be use schedule kernel compilation achieve high performance\n",
      "  - hardware implementation modern gpu ten hundred stream multiprocessor sms sm support schedule thousand concurrent thread thread thread block be partition warps warp contain consecutive thread execute instruction be two kind programmable chip memory share memory register register be privately allocate thread share memory be allocate thread block thread thread block can access it when launch kernel thread block be dispatch sms wave wave thread block dispatch single sm sm may contain multiple thread block number maximum resident thread block per sm be limit size share memory register file warp scheduling unit operator deep neural network be implement gpu kernel when run neural network launch kernel follow order satisfy operator dependency among operator matrix multiplication also know linear dense layer be one important operator next present efficient implementation matrix multiplication use cuda take it example throughout paper\n",
      "  - computation definition automatically translate compute reduce primitive nested loop series declarative scheduling primitive be apply transform loop structure default tensor program well performance specific hardware table show scheduling primitive tvm example step list first scheduling primitive implement matrix multiplication tvm use primitive schedule matrix multiplication start default program first split i j loop factor oi ii oj ij respectively reorder loop oi oj ii ij finally bind oi oj respectively primitive can get scheduled program figure be several way make use programming paradigm deep learning compiler intuitively can manually write schedule workload operator concrete input certain hardware however this approach require significant engineering effort achieve optimal performance widely use operator typical input size consequently tunable parameter tile size loop order be introduce developer specify schedule this way manual schedule become schedule template can optimize auto tuning framework various input shape hardware save time write schedule template auto scheduling approach that automatically generate schedule apply predefine rule computation definition propose however illustrate next section schedule space loop orient scheduling paradigm be still inefficient result it be challenge achieve competitive performance operator that be highly optimize kernel library since loop orient scheduling can express key optimization scheduler need hour day find good schedule configuration schedule space\n"
     ]
    }
   ],
   "source": [
    "kmeans = get_kmeans(df_closed, embeddings, k=7 ,show_samples=True) # i do not think the embeddings are good... but it generates more balanced clusters than tf-idf :("
   ]
  },
  {
   "cell_type": "markdown",
   "id": "17a65870-9cfe-40fa-a6c8-8540671374b2",
   "metadata": {},
   "source": [
    "### tf-idf"
   ]
  },
  {
   "cell_type": "code",
   "execution_count": 91,
   "id": "fc4b9c10-30f5-422d-981c-7c5d64d039b6",
   "metadata": {},
   "outputs": [],
   "source": [
    "from collections import Counter\n",
    "from sklearn.feature_extraction.text import TfidfVectorizer\n",
    "\n",
    "def tfidf_vectorize(tokenized_data, ngram_range=(1,2), max_features=100, min_df=0.01, max_df=0.7):\n",
    "    vectorizer = TfidfVectorizer(\n",
    "        ngram_range=ngram_range,  # Capture 2-4 word phrases\n",
    "        max_features=max_features,    # Best performance usually\n",
    "        min_df=min_df,         # Remove terms that appear in less than 1% of documents\n",
    "        max_df=max_df,          # Remove terms that appear in more than 70% of documents\n",
    "        stop_words=custom_stops # Default stopwords\n",
    "    )\n",
    "\n",
    "    # Transform the tokenized text data into TF-IDF features\n",
    "    tf_idf = vectorizer.fit_transform(tokenized_data)\n",
    "    return tf_idf, vectorizer\n",
    "\n",
    "def get_top_words(tfidf_vectorizer, kmeans, n_words):\n",
    "    # Get top words for each cluster\n",
    "    feature_names = tfidf_vectorizer.get_feature_names_out()\n",
    "    cluster_centers = kmeans.cluster_centers_\n",
    "    \n",
    "    # Store top words for each cluster\n",
    "    top_words_per_cluster = {}\n",
    "    n_top_words = n_words\n",
    "    \n",
    "    # Loop over each cluster center\n",
    "    for i in range(kmeans.n_clusters):\n",
    "        # Get the center vector for the current cluster\n",
    "        center_vector = cluster_centers[i]\n",
    "        \n",
    "        # Get the indices of the top words based on the highest TF-IDF values\n",
    "        top_indices = center_vector.argsort()[-n_top_words:][::-1]\n",
    "        \n",
    "        # Map the top indices to the corresponding feature names (words)\n",
    "        top_words = [feature_names[idx] for idx in top_indices]\n",
    "        \n",
    "        # Store the top words for the current cluster\n",
    "        top_words_per_cluster[i] = top_words\n",
    "    \n",
    "    # Print the top words for each cluster\n",
    "    for i, words in top_words_per_cluster.items():\n",
    "        print(f\"Cluster {i}: {', '.join(words)}\")"
   ]
  },
  {
   "cell_type": "code",
   "execution_count": 255,
   "id": "38473321-e220-46e1-8548-dedc28db0c80",
   "metadata": {},
   "outputs": [
    {
     "name": "stdout",
     "output_type": "stream",
     "text": [
      "37\n"
     ]
    },
    {
     "name": "stderr",
     "output_type": "stream",
     "text": [
      "/Users/janeshen/.pyenv/versions/3.11.10/lib/python3.11/site-packages/sklearn/feature_extraction/text.py:402: UserWarning: Your stop_words may be inconsistent with your preprocessing. Tokenizing the stop words generated tokens ['it', 'should', 'that', 'you'] not in stop_words.\n",
      "  warnings.warn(\n"
     ]
    }
   ],
   "source": [
    "tf_idf, vectorizer = tfidf_vectorize(tokenized_data, (1,3), 50, 0.05)\n",
    "print(tf_idf.shape[1])"
   ]
  },
  {
   "cell_type": "code",
   "execution_count": 256,
   "id": "ae952a48-8cfc-4c31-ae8a-101bf6c4b11f",
   "metadata": {},
   "outputs": [
    {
     "name": "stdout",
     "output_type": "stream",
     "text": [
      "cluster\n",
      "1    184\n",
      "3     77\n",
      "0     47\n",
      "2     38\n",
      "Name: count, dtype: int64\n"
     ]
    }
   ],
   "source": [
    "kmeans = get_kmeans(df_closed, tf_idf, 4, show_samples=False)"
   ]
  },
  {
   "cell_type": "code",
   "execution_count": 257,
   "id": "c2c78673-85b9-4d9e-ad1e-77044d515673",
   "metadata": {},
   "outputs": [
    {
     "name": "stdout",
     "output_type": "stream",
     "text": [
      "Cluster 0: how, can, use, that, get, file, create, it, you, do, give, code, can you, would, make, this, could, should, user, one\n",
      "Cluster 1: that, it, what, use, code, would, you, please, need, can, like, could, return, user, which, make, should, run, list, write\n",
      "Cluster 2: want, file, use, what, it, like, when, do, can, that, one, you, create, user, give, work, example, this, which, get\n",
      "Cluster 3: this, do, it, what, you, can, way, use, code, how, work, can you, like, please, write, that, get, need, when, which\n"
     ]
    }
   ],
   "source": [
    "get_top_words(vectorizer, kmeans, 20)"
   ]
  },
  {
   "cell_type": "code",
   "execution_count": 185,
   "id": "b3c1cabd-86ed-48e9-b5fd-f7fe4e3ad8f6",
   "metadata": {
    "collapsed": true,
    "jupyter": {
     "outputs_hidden": true,
     "source_hidden": true
    }
   },
   "outputs": [
    {
     "data": {
      "image/png": "[encoded data removed]",
      "text/plain": [
       "<Figure size 800x800 with 4 Axes>"
      ]
     },
     "metadata": {},
     "output_type": "display_data"
    }
   ],
   "source": [
    "# import matplotlib.pyplot as plt\n",
    "# import seaborn as sns\n",
    "\n",
    "# # Count occurrences of each state per cluster\n",
    "# df_counts = df_closed.groupby(['cluster', 'State']).size().reset_index(name='count')\n",
    "\n",
    "# # Create FacetGrid to facet by cluster\n",
    "# g = sns.FacetGrid(df_counts, col='cluster', col_wrap=2, sharey=True, height=4)\n",
    "# g.map_dataframe(sns.barplot, x='State', y='count', hue='State', palette='viridis', legend=False)\n",
    "\n",
    "# # Adjust labels\n",
    "# g.set_axis_labels(\"State\", \"Count\")\n",
    "# g.set_titles(\"Cluster {col_name}\")\n",
    "\n",
    "# plt.show()"
   ]
  },
  {
   "cell_type": "code",
   "execution_count": 258,
   "id": "3afd85e7-96d4-481e-98c3-6f2d78da8278",
   "metadata": {},
   "outputs": [],
   "source": [
    "import matplotlib.pyplot as plt\n",
    "import seaborn as sns\n",
    "from sklearn.preprocessing import MinMaxScaler\n",
    "\n",
    "def plot_dependency_features(df, feature_columns, cluster_column='cluster'):\n",
    "    \"\"\"\n",
    "    Plots the mean of dependency features across clusters using a faceted bar plot.\n",
    "\n",
    "    Parameters:\n",
    "        df (pd.DataFrame): DataFrame containing the cluster assignments and dependency features.\n",
    "        feature_columns (list): List of dependency feature column names.\n",
    "        cluster_column (str): Column name representing cluster labels.\n",
    "    \"\"\"\n",
    "    df_grouped = df.groupby(cluster_column)[feature_columns].mean().reset_index()\n",
    "    df_melted = df_grouped.melt(id_vars=cluster_column, var_name='Feature', value_name='Mean Value')\n",
    "\n",
    "    g = sns.FacetGrid(df_melted, col=cluster_column, col_wrap=2, sharey=True)\n",
    "    g.map_dataframe(sns.barplot, x=\"Feature\", y=\"Mean Value\", hue=\"Feature\", palette=\"tab10\", dodge=False)\n",
    "\n",
    "    for ax in g.axes.flat:\n",
    "        ax.tick_params(axis='x', rotation=45)\n",
    "\n",
    "    plt.legend([],[], frameon=False)\n",
    "    plt.show()\n",
    "\n",
    "def transform_dependencies(dep_features_data):\n",
    "    # Convert dependency features to DataFrame and normalize\n",
    "    scaler = MinMaxScaler()\n",
    "    normalized_features = scaler.fit_transform(np.array(dep_features_data))\n",
    "    \n",
    "    labels = ['nsubj', 'dobj', 'prep', 'pobj', 'attr', 'amod', 'aux', 'root', \n",
    "              'advmod', 'ccomp', 'xcomp', 'mark', 'compound', 'det', 'cc', 'conj']\n",
    "    dep_df = pd.DataFrame(normalized_features, columns=labels)\n",
    "\n",
    "    return dep_df"
   ]
  },
  {
   "cell_type": "code",
   "execution_count": 259,
   "id": "86140aa5-8657-4cd8-a1f8-56b1a7dba8b1",
   "metadata": {},
   "outputs": [
    {
     "data": {
      "image/png": "[encoded data removed]",
      "text/plain": [
       "<Figure size 600x600 with 4 Axes>"
      ]
     },
     "metadata": {},
     "output_type": "display_data"
    }
   ],
   "source": [
    "# get normalized features dataframe\n",
    "dep_df = transform_dependencies(dep_features_data)\n",
    "\n",
    "# combine with original DataFrame\n",
    "df_combined = pd.concat([df_closed, dep_df], axis=1)\n",
    "\n",
    "# Plot the dependency features per cluster\n",
    "feature_names = ['nsubj', 'dobj', 'prep', 'pobj', 'attr', 'amod', 'aux', 'root', \n",
    "                 'advmod', 'ccomp', 'xcomp', 'mark', 'compound', 'det', 'cc', 'conj']\n",
    "plot_dependency_features(df_combined, feature_names)"
   ]
  },
  {
   "cell_type": "code",
   "execution_count": 260,
   "id": "f6dc7112-f7f6-4c87-b039-61abe131d903",
   "metadata": {
    "collapsed": true,
    "jupyter": {
     "outputs_hidden": true
    },
    "scrolled": true
   },
   "outputs": [
    {
     "data": {
      "text/plain": [
       "<Axes: >"
      ]
     },
     "execution_count": 260,
     "metadata": {},
     "output_type": "execute_result"
    },
    {
     "data": {
      "image/png": "[encoded data removed]",
      "text/plain": [
       "<Figure size 640x480 with 1 Axes>"
      ]
     },
     "metadata": {},
     "output_type": "display_data"
    }
   ],
   "source": [
    "dep_temp = pd.DataFrame(dep_features_matrix, columns=dep_labels)\n",
    "dep_temp[dep_labels].boxplot()"
   ]
  },
  {
   "cell_type": "code",
   "execution_count": 263,
   "id": "73dbee60-fb68-4fa0-bf24-5e931bc40e0f",
   "metadata": {},
   "outputs": [
    {
     "data": {
      "image/png": "[encoded data removed]",
      "text/plain": [
       "<Figure size 300x300 with 1 Axes>"
      ]
     },
     "metadata": {},
     "output_type": "display_data"
    }
   ],
   "source": [
    "tokenized_data, dep_features_data = get_tokens_deps(df_closed)\n",
    "dep_df = transform_dependencies(dep_features_data)\n",
    "\n",
    "feature_means = dep_df[feature_names].mean().reset_index()\n",
    "feature_means.columns = ['Feature', 'Mean']\n",
    "\n",
    "plt.figure(figsize=(3, 3))\n",
    "ax = sns.barplot(data=feature_means, x=\"Feature\", y=\"Mean\", hue=\"Feature\", palette=\"tab10\")\n",
    "ax.set_ylim(0, 0.12)\n",
    "\n",
    "plt.xticks(rotation=45)\n",
    "plt.xlabel(\"Dependency Feature\")\n",
    "plt.ylabel(\"Total Count\")\n",
    "plt.title(\"Total Counts of Dependency Features\")\n",
    "plt.show()"
   ]
  },
  {
   "cell_type": "code",
   "execution_count": 454,
   "id": "582e3f91-f24e-4e2b-9558-b8f1d83ad694",
   "metadata": {
    "jupyter": {
     "source_hidden": true
    }
   },
   "outputs": [
    {
     "name": "stdout",
     "output_type": "stream",
     "text": [
      "30\n"
     ]
    }
   ],
   "source": [
    "# Combine TF-IDF features with normalized dependency features (concatenate)\n",
    "X_combined = np.hstack([X_tfidf.toarray(), dep_features_normalized])\n",
    "print(X_combined.shape[1])"
   ]
  },
  {
   "cell_type": "code",
   "execution_count": 485,
   "id": "000ac2d9-fc06-4125-8460-3f0af2f7bc83",
   "metadata": {},
   "outputs": [
    {
     "data": {
      "text/plain": [
       "cluster\n",
       " 0    63\n",
       "-1    53\n",
       "Name: count, dtype: int64"
      ]
     },
     "execution_count": 485,
     "metadata": {},
     "output_type": "execute_result"
    }
   ],
   "source": [
    "from sklearn.cluster import DBSCAN\n",
    "\n",
    "dbscan = DBSCAN(eps=0.5, min_samples=2, metric='cosine')\n",
    "df['cluster'] = dbscan.fit_predict(matrix)\n",
    "\n",
    "df['cluster'].value_counts()"
   ]
  },
  {
   "cell_type": "code",
   "execution_count": 486,
   "id": "1abbdbb0-eb32-4373-b805-f238640bfde2",
   "metadata": {
    "jupyter": {
     "source_hidden": true
    }
   },
   "outputs": [
    {
     "name": "stdout",
     "output_type": "stream",
     "text": [
      "Cluster 0: can you, do this, how can, how do, what do, do you, could you, that it, do it, that can\n"
     ]
    }
   ],
   "source": [
    "# Get the feature names (words) from the TF-IDF vectorizer\n",
    "feature_names = tfidf_vectorizer.get_feature_names_out()\n",
    "\n",
    "# Get the DBSCAN cluster labels\n",
    "labels = dbscan.labels_\n",
    "\n",
    "# Initialize a dictionary to store the top words for each cluster\n",
    "top_words_per_cluster = {}\n",
    "\n",
    "# Loop over each unique cluster label (excluding noise points labeled as -1)\n",
    "for label in set(labels):\n",
    "    if label == -1:  # Skip noise points\n",
    "        continue\n",
    "\n",
    "    # Get the indices of the documents in the current cluster\n",
    "    cluster_indices = [i for i, lbl in enumerate(labels) if lbl == label]\n",
    "    \n",
    "    # Extract the corresponding TF-IDF values for the documents in the current cluster\n",
    "    cluster_tfidf = X_tfidf[cluster_indices]\n",
    "    \n",
    "    # Sum the TF-IDF values for each term in the cluster\n",
    "    cluster_sum = cluster_tfidf.sum(axis=0).A1  # Convert sparse matrix to dense array (A1)\n",
    "    \n",
    "    # Get the indices of the top words (based on summed TF-IDF values)\n",
    "    top_indices = cluster_sum.argsort()[-10:][::-1]  # Get the top 10 words\n",
    "    \n",
    "    # Map the top indices to the corresponding feature names (words)\n",
    "    top_words = [feature_names[idx] for idx in top_indices]\n",
    "    \n",
    "    # Store the top words for the current cluster\n",
    "    top_words_per_cluster[label] = top_words\n",
    "\n",
    "# Print the top words for each cluster\n",
    "for label, words in top_words_per_cluster.items():\n",
    "    print(f\"Cluster {label}: {', '.join(words)}\")"
   ]
  }
 ],
 "metadata": {
  "kernelspec": {
   "display_name": "Python (new_base)",
   "language": "python",
   "name": "new_base"
  },
  "language_info": {
   "codemirror_mode": {
    "name": "ipython",
    "version": 3
   },
   "file_extension": ".py",
   "mimetype": "text/x-python",
   "name": "python",
   "nbconvert_exporter": "python",
   "pygments_lexer": "ipython3",
   "version": "3.11.10"
  }
 },
 "nbformat": 4,
 "nbformat_minor": 5
}
