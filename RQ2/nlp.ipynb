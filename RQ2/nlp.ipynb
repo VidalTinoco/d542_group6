{
 "cells": [
  {
   "cell_type": "code",
   "execution_count": 2,
   "id": "98bec1fe-3206-4c0f-8c55-76caba5f2f82",
   "metadata": {},
   "outputs": [],
   "source": [
    "import pandas as pd\n",
    "import numpy as np"
   ]
  },
  {
   "cell_type": "code",
   "execution_count": 40,
   "id": "a2967da4-6fac-440a-bcf6-6723729cf7fc",
   "metadata": {},
   "outputs": [
    {
     "name": "stdout",
     "output_type": "stream",
     "text": [
      "<class 'pandas.core.frame.DataFrame'>\n",
      "RangeIndex: 1431 entries, 0 to 1430\n",
      "Data columns (total 18 columns):\n",
      " #   Column             Non-Null Count  Dtype  \n",
      "---  ------             --------------  -----  \n",
      " 0   Prompt             1431 non-null   object \n",
      " 1   Answer             1431 non-null   object \n",
      " 2   ListOfCode         1431 non-null   object \n",
      " 3   conversation_id    1431 non-null   object \n",
      " 4   ClosedAt           581 non-null    object \n",
      " 5   CreatedAt          1431 non-null   object \n",
      " 6   RepoLanguage       1313 non-null   object \n",
      " 7   RepoName           1431 non-null   object \n",
      " 8   State              1431 non-null   object \n",
      " 9   UpdatedAt          1431 non-null   object \n",
      " 10  conversationTitle  1428 non-null   object \n",
      " 11  issueDesc          1402 non-null   object \n",
      " 12  issueTitle         1431 non-null   object \n",
      " 13  mentionProperty    1431 non-null   object \n",
      " 14  mentionText        1431 non-null   object \n",
      " 15  numPrompts         1431 non-null   float64\n",
      " 16  sourceURL          1431 non-null   object \n",
      " 17  Detected_Language  1430 non-null   object \n",
      "dtypes: float64(1), object(17)\n",
      "memory usage: 201.4+ KB\n"
     ]
    }
   ],
   "source": [
    "df = pd.read_csv('../data/data_clean/issuedata_cleaned.csv')\n",
    "df.info()"
   ]
  },
  {
   "cell_type": "code",
   "execution_count": 41,
   "id": "5e4ced3c-f532-4967-96ca-d9e37e6ae8e6",
   "metadata": {},
   "outputs": [
    {
     "data": {
      "text/plain": [
       "conversation_id\n",
       "论文_https://github.com/bcmi/Foreground-Object-Search-Dataset-FOSD/issues/2                                                    69\n",
       "モデルセットアップとテスト_https://github.com/Ratescale/Satellite-Instrument-Info-Manager/issues/2#issuecomment-1573598067                50\n",
       "Add CSS rule to selector_https://github.com/MauriceLe/PIMS/issues/73                                                         46\n",
       "Llama-2 Setup Guide._https://github.com/facebookresearch/llama/issues/639                                                    41\n",
       "Player Table Schema_https://github.com/Sricharan2k3/Elearning/issues/1                                                       34\n",
       "                                                                                                                             ..\n",
       "Timestamp Duration Formatter._https://github.com/jku-vds-lab/loops/issues/29#issuecomment-1644065034                          1\n",
       "게시판 웹앱 중복 저장 해결 (4 words)_https://github.com/zhyunk/zb-mission-store-reserve/issues/49#issuecomment-1663557892                1\n",
       "Rust Equivalent of Python_https://github.com/open-spaced-repetition/fsrs-optimizer-burn/issues/21#issuecomment-1690384103     1\n",
       "制約条件の種類_https://github.com/HiroIshida/snippets/issues/43                                                                      1\n",
       "Add & Use Composer Package._https://github.com/kamilwylegala/cakephp2-php8/issues/45#issuecomment-1650029327                  1\n",
       "Name: count, Length: 313, dtype: int64"
      ]
     },
     "execution_count": 41,
     "metadata": {},
     "output_type": "execute_result"
    }
   ],
   "source": [
    "df['conversation_id'].value_counts()"
   ]
  },
  {
   "cell_type": "code",
   "execution_count": 36,
   "id": "22563a4c-7ae2-405b-9e98-f758b144648b",
   "metadata": {},
   "outputs": [
    {
     "name": "stdout",
     "output_type": "stream",
     "text": [
      "<class 'pandas.core.frame.DataFrame'>\n",
      "RangeIndex: 1431 entries, 0 to 1430\n",
      "Data columns (total 18 columns):\n",
      " #   Column             Non-Null Count  Dtype  \n",
      "---  ------             --------------  -----  \n",
      " 0   Prompt             1431 non-null   object \n",
      " 1   Answer             1431 non-null   object \n",
      " 2   ListOfCode         1431 non-null   object \n",
      " 3   conversation_id    1431 non-null   object \n",
      " 4   ClosedAt           581 non-null    object \n",
      " 5   CreatedAt          1431 non-null   object \n",
      " 6   RepoLanguage       1313 non-null   object \n",
      " 7   RepoName           1431 non-null   object \n",
      " 8   State              1431 non-null   object \n",
      " 9   UpdatedAt          1431 non-null   object \n",
      " 10  conversationTitle  1428 non-null   object \n",
      " 11  issueDesc          1402 non-null   object \n",
      " 12  issueTitle         1431 non-null   object \n",
      " 13  mentionProperty    1431 non-null   object \n",
      " 14  mentionText        1431 non-null   object \n",
      " 15  numPrompts         1431 non-null   float64\n",
      " 16  sourceURL          1431 non-null   object \n",
      " 17  Detected_Language  1430 non-null   object \n",
      "dtypes: float64(1), object(17)\n",
      "memory usage: 201.4+ KB\n"
     ]
    }
   ],
   "source": [
    "df = pd.read_csv('../data/data_clean/issuedata_cleaned2.csv')\n",
    "df.info()"
   ]
  },
  {
   "cell_type": "code",
   "execution_count": 37,
   "id": "69a7ad38-ada3-4ffa-82cd-5fd6d1b0fcb7",
   "metadata": {},
   "outputs": [
    {
     "data": {
      "text/plain": [
       "conversation_id\n",
       "论文_https://github.com/bcmi/Foreground-Object-Search-Dataset-FOSD/issues/2                                                    69\n",
       "モデルセットアップとテスト_https://github.com/Ratescale/Satellite-Instrument-Info-Manager/issues/2#issuecomment-1573598067                50\n",
       "Add CSS rule to selector_https://github.com/MauriceLe/PIMS/issues/73                                                         46\n",
       "Llama-2 Setup Guide._https://github.com/facebookresearch/llama/issues/639                                                    41\n",
       "Player Table Schema_https://github.com/Sricharan2k3/Elearning/issues/1                                                       34\n",
       "                                                                                                                             ..\n",
       "Timestamp Duration Formatter._https://github.com/jku-vds-lab/loops/issues/29#issuecomment-1644065034                          1\n",
       "게시판 웹앱 중복 저장 해결 (4 words)_https://github.com/zhyunk/zb-mission-store-reserve/issues/49#issuecomment-1663557892                1\n",
       "Rust Equivalent of Python_https://github.com/open-spaced-repetition/fsrs-optimizer-burn/issues/21#issuecomment-1690384103     1\n",
       "制約条件の種類_https://github.com/HiroIshida/snippets/issues/43                                                                      1\n",
       "Add & Use Composer Package._https://github.com/kamilwylegala/cakephp2-php8/issues/45#issuecomment-1650029327                  1\n",
       "Name: count, Length: 313, dtype: int64"
      ]
     },
     "execution_count": 37,
     "metadata": {},
     "output_type": "execute_result"
    }
   ],
   "source": [
    "df['conversation_id'].value_counts()"
   ]
  },
  {
   "cell_type": "code",
   "execution_count": 29,
   "id": "c1f6872b-1853-43d0-a224-3b8f5ead9157",
   "metadata": {
    "collapsed": true,
    "jupyter": {
     "outputs_hidden": true
    },
    "scrolled": true
   },
   "outputs": [
    {
     "data": {
      "text/html": [
       "<div>\n",
       "<style scoped>\n",
       "    .dataframe tbody tr th:only-of-type {\n",
       "        vertical-align: middle;\n",
       "    }\n",
       "\n",
       "    .dataframe tbody tr th {\n",
       "        vertical-align: top;\n",
       "    }\n",
       "\n",
       "    .dataframe thead th {\n",
       "        text-align: right;\n",
       "    }\n",
       "</style>\n",
       "<table border=\"1\" class=\"dataframe\">\n",
       "  <thead>\n",
       "    <tr style=\"text-align: right;\">\n",
       "      <th></th>\n",
       "      <th>Prompt</th>\n",
       "      <th>Answer</th>\n",
       "      <th>ListOfCode</th>\n",
       "      <th>ClosedAt</th>\n",
       "      <th>CreatedAt</th>\n",
       "      <th>RepoLanguage</th>\n",
       "      <th>RepoName</th>\n",
       "      <th>State</th>\n",
       "      <th>UpdatedAt</th>\n",
       "      <th>conversationTitle</th>\n",
       "      <th>conversation_id</th>\n",
       "      <th>issueDesc</th>\n",
       "      <th>issueTitle</th>\n",
       "      <th>mentionProperty</th>\n",
       "      <th>mentionText</th>\n",
       "      <th>numPrompts</th>\n",
       "      <th>sourceURL</th>\n",
       "      <th>Detected_Language</th>\n",
       "    </tr>\n",
       "  </thead>\n",
       "  <tbody>\n",
       "    <tr>\n",
       "      <th>0</th>\n",
       "      <td>How to run a java class inside of a container ...</td>\n",
       "      <td>To run a Java class inside a container using T...</td>\n",
       "      <td>[{'ReplaceString': '[CODE_BLOCK_0]', 'Type': '...</td>\n",
       "      <td>NaN</td>\n",
       "      <td>2023-07-07T20:30:07Z</td>\n",
       "      <td>Java</td>\n",
       "      <td>jabrena/aqa-tests-experiments</td>\n",
       "      <td>OPEN</td>\n",
       "      <td>2023-07-08T11:56:45Z</td>\n",
       "      <td>Java class in container</td>\n",
       "      <td>Java class in container_https://github.com/jab...</td>\n",
       "      <td>- https://chat.openai.com/share/e169e9a7-40c5-...</td>\n",
       "      <td>Run a test in multiple java distros</td>\n",
       "      <td>body</td>\n",
       "      <td>- https://chat.openai.com/share/e169e9a7-40c5-...</td>\n",
       "      <td>4.0</td>\n",
       "      <td>https://github.com/jabrena/aqa-tests-experimen...</td>\n",
       "      <td>en</td>\n",
       "    </tr>\n",
       "    <tr>\n",
       "      <th>1</th>\n",
       "      <td>I need to add a java class dynamically to exec...</td>\n",
       "      <td>To dynamically add and execute a Java class us...</td>\n",
       "      <td>[{'ReplaceString': '[CODE_BLOCK_0]', 'Type': '...</td>\n",
       "      <td>NaN</td>\n",
       "      <td>2023-07-07T20:30:07Z</td>\n",
       "      <td>Java</td>\n",
       "      <td>jabrena/aqa-tests-experiments</td>\n",
       "      <td>OPEN</td>\n",
       "      <td>2023-07-08T11:56:45Z</td>\n",
       "      <td>Java class in container</td>\n",
       "      <td>Java class in container_https://github.com/jab...</td>\n",
       "      <td>- https://chat.openai.com/share/e169e9a7-40c5-...</td>\n",
       "      <td>Run a test in multiple java distros</td>\n",
       "      <td>body</td>\n",
       "      <td>- https://chat.openai.com/share/e169e9a7-40c5-...</td>\n",
       "      <td>4.0</td>\n",
       "      <td>https://github.com/jabrena/aqa-tests-experimen...</td>\n",
       "      <td>en</td>\n",
       "    </tr>\n",
       "    <tr>\n",
       "      <th>2</th>\n",
       "      <td>How to add a java class in a generic container...</td>\n",
       "      <td>To add a Java class in a generic container fro...</td>\n",
       "      <td>[]</td>\n",
       "      <td>NaN</td>\n",
       "      <td>2023-07-07T20:30:07Z</td>\n",
       "      <td>Java</td>\n",
       "      <td>jabrena/aqa-tests-experiments</td>\n",
       "      <td>OPEN</td>\n",
       "      <td>2023-07-08T11:56:45Z</td>\n",
       "      <td>NaN</td>\n",
       "      <td>_https://github.com/jabrena/aqa-tests-experime...</td>\n",
       "      <td>- https://chat.openai.com/share/e169e9a7-40c5-...</td>\n",
       "      <td>Run a test in multiple java distros</td>\n",
       "      <td>body</td>\n",
       "      <td>- https://chat.openai.com/share/e169e9a7-40c5-...</td>\n",
       "      <td>4.0</td>\n",
       "      <td>https://github.com/jabrena/aqa-tests-experimen...</td>\n",
       "      <td>en</td>\n",
       "    </tr>\n",
       "    <tr>\n",
       "      <th>3</th>\n",
       "      <td>Show me code only</td>\n",
       "      <td>Certainly! Here's an example code snippet that...</td>\n",
       "      <td>[{'ReplaceString': '[CODE_BLOCK_0]', 'Type': '...</td>\n",
       "      <td>NaN</td>\n",
       "      <td>2023-07-07T20:30:07Z</td>\n",
       "      <td>Java</td>\n",
       "      <td>jabrena/aqa-tests-experiments</td>\n",
       "      <td>OPEN</td>\n",
       "      <td>2023-07-08T11:56:45Z</td>\n",
       "      <td>NaN</td>\n",
       "      <td>_https://github.com/jabrena/aqa-tests-experime...</td>\n",
       "      <td>- https://chat.openai.com/share/e169e9a7-40c5-...</td>\n",
       "      <td>Run a test in multiple java distros</td>\n",
       "      <td>body</td>\n",
       "      <td>- https://chat.openai.com/share/e169e9a7-40c5-...</td>\n",
       "      <td>4.0</td>\n",
       "      <td>https://github.com/jabrena/aqa-tests-experimen...</td>\n",
       "      <td>en</td>\n",
       "    </tr>\n",
       "    <tr>\n",
       "      <th>4</th>\n",
       "      <td>But I say to add a physical java class inside ...</td>\n",
       "      <td>Apologies for the confusion. If you want to ad...</td>\n",
       "      <td>[{'ReplaceString': '[CODE_BLOCK_0]', 'Type': '...</td>\n",
       "      <td>NaN</td>\n",
       "      <td>2023-07-07T20:30:07Z</td>\n",
       "      <td>Java</td>\n",
       "      <td>jabrena/aqa-tests-experiments</td>\n",
       "      <td>OPEN</td>\n",
       "      <td>2023-07-08T11:56:45Z</td>\n",
       "      <td>NaN</td>\n",
       "      <td>_https://github.com/jabrena/aqa-tests-experime...</td>\n",
       "      <td>- https://chat.openai.com/share/e169e9a7-40c5-...</td>\n",
       "      <td>Run a test in multiple java distros</td>\n",
       "      <td>body</td>\n",
       "      <td>- https://chat.openai.com/share/e169e9a7-40c5-...</td>\n",
       "      <td>4.0</td>\n",
       "      <td>https://github.com/jabrena/aqa-tests-experimen...</td>\n",
       "      <td>en</td>\n",
       "    </tr>\n",
       "  </tbody>\n",
       "</table>\n",
       "</div>"
      ],
      "text/plain": [
       "                                              Prompt  \\\n",
       "0  How to run a java class inside of a container ...   \n",
       "1  I need to add a java class dynamically to exec...   \n",
       "2  How to add a java class in a generic container...   \n",
       "3                                  Show me code only   \n",
       "4  But I say to add a physical java class inside ...   \n",
       "\n",
       "                                              Answer  \\\n",
       "0  To run a Java class inside a container using T...   \n",
       "1  To dynamically add and execute a Java class us...   \n",
       "2  To add a Java class in a generic container fro...   \n",
       "3  Certainly! Here's an example code snippet that...   \n",
       "4  Apologies for the confusion. If you want to ad...   \n",
       "\n",
       "                                          ListOfCode ClosedAt  \\\n",
       "0  [{'ReplaceString': '[CODE_BLOCK_0]', 'Type': '...      NaN   \n",
       "1  [{'ReplaceString': '[CODE_BLOCK_0]', 'Type': '...      NaN   \n",
       "2                                                 []      NaN   \n",
       "3  [{'ReplaceString': '[CODE_BLOCK_0]', 'Type': '...      NaN   \n",
       "4  [{'ReplaceString': '[CODE_BLOCK_0]', 'Type': '...      NaN   \n",
       "\n",
       "              CreatedAt RepoLanguage                       RepoName State  \\\n",
       "0  2023-07-07T20:30:07Z         Java  jabrena/aqa-tests-experiments  OPEN   \n",
       "1  2023-07-07T20:30:07Z         Java  jabrena/aqa-tests-experiments  OPEN   \n",
       "2  2023-07-07T20:30:07Z         Java  jabrena/aqa-tests-experiments  OPEN   \n",
       "3  2023-07-07T20:30:07Z         Java  jabrena/aqa-tests-experiments  OPEN   \n",
       "4  2023-07-07T20:30:07Z         Java  jabrena/aqa-tests-experiments  OPEN   \n",
       "\n",
       "              UpdatedAt        conversationTitle  \\\n",
       "0  2023-07-08T11:56:45Z  Java class in container   \n",
       "1  2023-07-08T11:56:45Z  Java class in container   \n",
       "2  2023-07-08T11:56:45Z                      NaN   \n",
       "3  2023-07-08T11:56:45Z                      NaN   \n",
       "4  2023-07-08T11:56:45Z                      NaN   \n",
       "\n",
       "                                     conversation_id  \\\n",
       "0  Java class in container_https://github.com/jab...   \n",
       "1  Java class in container_https://github.com/jab...   \n",
       "2  _https://github.com/jabrena/aqa-tests-experime...   \n",
       "3  _https://github.com/jabrena/aqa-tests-experime...   \n",
       "4  _https://github.com/jabrena/aqa-tests-experime...   \n",
       "\n",
       "                                           issueDesc  \\\n",
       "0  - https://chat.openai.com/share/e169e9a7-40c5-...   \n",
       "1  - https://chat.openai.com/share/e169e9a7-40c5-...   \n",
       "2  - https://chat.openai.com/share/e169e9a7-40c5-...   \n",
       "3  - https://chat.openai.com/share/e169e9a7-40c5-...   \n",
       "4  - https://chat.openai.com/share/e169e9a7-40c5-...   \n",
       "\n",
       "                            issueTitle mentionProperty  \\\n",
       "0  Run a test in multiple java distros            body   \n",
       "1  Run a test in multiple java distros            body   \n",
       "2  Run a test in multiple java distros            body   \n",
       "3  Run a test in multiple java distros            body   \n",
       "4  Run a test in multiple java distros            body   \n",
       "\n",
       "                                         mentionText  numPrompts  \\\n",
       "0  - https://chat.openai.com/share/e169e9a7-40c5-...         4.0   \n",
       "1  - https://chat.openai.com/share/e169e9a7-40c5-...         4.0   \n",
       "2  - https://chat.openai.com/share/e169e9a7-40c5-...         4.0   \n",
       "3  - https://chat.openai.com/share/e169e9a7-40c5-...         4.0   \n",
       "4  - https://chat.openai.com/share/e169e9a7-40c5-...         4.0   \n",
       "\n",
       "                                           sourceURL Detected_Language  \n",
       "0  https://github.com/jabrena/aqa-tests-experimen...                en  \n",
       "1  https://github.com/jabrena/aqa-tests-experimen...                en  \n",
       "2  https://github.com/jabrena/aqa-tests-experimen...                en  \n",
       "3  https://github.com/jabrena/aqa-tests-experimen...                en  \n",
       "4  https://github.com/jabrena/aqa-tests-experimen...                en  "
      ]
     },
     "execution_count": 29,
     "metadata": {},
     "output_type": "execute_result"
    }
   ],
   "source": [
    "# df = pd.read_csv('../data/data_clean/issuedata_cleaned.csv')\n",
    "df = pd.read_csv('RQ2_clean.csv', index_col=0)\n",
    "df.head()"
   ]
  },
  {
   "cell_type": "code",
   "execution_count": 30,
   "id": "61cfedb5-dbe9-4a42-bb71-5284f52cd953",
   "metadata": {},
   "outputs": [
    {
     "name": "stdout",
     "output_type": "stream",
     "text": [
      "<class 'pandas.core.frame.DataFrame'>\n",
      "Index: 1433 entries, 0 to 1432\n",
      "Data columns (total 18 columns):\n",
      " #   Column             Non-Null Count  Dtype  \n",
      "---  ------             --------------  -----  \n",
      " 0   Prompt             1433 non-null   object \n",
      " 1   Answer             1433 non-null   object \n",
      " 2   ListOfCode         1433 non-null   object \n",
      " 3   ClosedAt           583 non-null    object \n",
      " 4   CreatedAt          1433 non-null   object \n",
      " 5   RepoLanguage       1315 non-null   object \n",
      " 6   RepoName           1433 non-null   object \n",
      " 7   State              1433 non-null   object \n",
      " 8   UpdatedAt          1433 non-null   object \n",
      " 9   conversationTitle  1430 non-null   object \n",
      " 10  conversation_id    1433 non-null   object \n",
      " 11  issueDesc          1404 non-null   object \n",
      " 12  issueTitle         1433 non-null   object \n",
      " 13  mentionProperty    1433 non-null   object \n",
      " 14  mentionText        1433 non-null   object \n",
      " 15  numPrompts         1433 non-null   float64\n",
      " 16  sourceURL          1433 non-null   object \n",
      " 17  Detected_Language  1432 non-null   object \n",
      "dtypes: float64(1), object(17)\n",
      "memory usage: 212.7+ KB\n"
     ]
    }
   ],
   "source": [
    "df.info()"
   ]
  },
  {
   "cell_type": "code",
   "execution_count": 31,
   "id": "dbfc28b3-dd99-49d2-a4cd-55e18d76f8e5",
   "metadata": {},
   "outputs": [
    {
     "data": {
      "text/plain": [
       "conversation_id\n",
       "论文_https://github.com/bcmi/Foreground-Object-Search-Dataset-FOSD/issues/2                                        69\n",
       "モデルセットアップとテスト_https://github.com/Ratescale/Satellite-Instrument-Info-Manager/issues/2#issuecomment-1573598067    50\n",
       "Add CSS rule to selector_https://github.com/MauriceLe/PIMS/issues/73                                             46\n",
       "Llama-2 Setup Guide._https://github.com/facebookresearch/llama/issues/639                                        41\n",
       "Player Table Schema_https://github.com/Sricharan2k3/Elearning/issues/1                                           34\n",
       "                                                                                                                 ..\n",
       "Conan for Complex C++_https://github.com/NA-MIC/ProjectWeek/issues/724#issuecomment-1585830337                    1\n",
       "React MUI Layout_https://github.com/neilenns/vatsim-plan-verifier/issues/135                                      1\n",
       "Font Options for React MUI._https://github.com/neilenns/vatsim-plan-verifier/issues/173                           1\n",
       "Auto-Publish Python with GitHub_https://github.com/Agenta-AI/agenta/issues/273                                    1\n",
       "Add & Use Composer Package._https://github.com/kamilwylegala/cakephp2-php8/issues/45#issuecomment-1650029327      1\n",
       "Name: count, Length: 314, dtype: int64"
      ]
     },
     "execution_count": 31,
     "metadata": {},
     "output_type": "execute_result"
    }
   ],
   "source": [
    "df['conversation_id'].value_counts()"
   ]
  },
  {
   "cell_type": "code",
   "execution_count": null,
   "id": "d96e1ef7-4481-4ea1-ac6b-4a44892e4b62",
   "metadata": {},
   "outputs": [],
   "source": []
  }
 ],
 "metadata": {
  "kernelspec": {
   "display_name": "Python (new_base)",
   "language": "python",
   "name": "new_base"
  },
  "language_info": {
   "codemirror_mode": {
    "name": "ipython",
    "version": 3
   },
   "file_extension": ".py",
   "mimetype": "text/x-python",
   "name": "python",
   "nbconvert_exporter": "python",
   "pygments_lexer": "ipython3",
   "version": "3.11.10"
  }
 },
 "nbformat": 4,
 "nbformat_minor": 5
}
