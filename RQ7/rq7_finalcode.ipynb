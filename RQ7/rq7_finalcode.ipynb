{
 "cells": [
  {
   "cell_type": "markdown",
   "metadata": {},
   "source": [
    "# Question 7\n",
    "\n",
    "How accurately can we predict the length of a conversation with ChatGPT based on the initial prompt and context provided?"
   ]
  },
  {
   "cell_type": "code",
   "execution_count": 1,
   "metadata": {},
   "outputs": [
    {
     "name": "stdout",
     "output_type": "stream",
     "text": [
      "WARNING:tensorflow:From c:\\Users\\vidal\\miniconda3\\Lib\\site-packages\\tf_keras\\src\\losses.py:2976: The name tf.losses.sparse_softmax_cross_entropy is deprecated. Please use tf.compat.v1.losses.sparse_softmax_cross_entropy instead.\n",
      "\n"
     ]
    }
   ],
   "source": [
    "\"\"\"\n",
    "Project: Predicting the Length of a Conversation with ChatGPT\n",
    "Description: This script loads and cleans the data, performs feature extraction (including NLP features), \n",
    "             trains three models (Random Forest, Gradient Boosting with grid search, and a Neural Network), \n",
    "             evaluates them, and saves the resulting plots and metrics.\n",
    "\"\"\"\n",
    "\n",
    "# Import Libraries\n",
    "\n",
    "import pandas as pd\n",
    "import numpy as np\n",
    "import re\n",
    "import time\n",
    "from collections import deque, Counter\n",
    "import matplotlib.pyplot as plt\n",
    "import seaborn as sns\n",
    "\n",
    "# Data Preprocessing and Machine Learning\n",
    "from sklearn.preprocessing import LabelEncoder, MinMaxScaler, OneHotEncoder\n",
    "from sklearn.feature_extraction.text import CountVectorizer, TfidfVectorizer\n",
    "from sklearn.decomposition import LatentDirichletAllocation, TruncatedSVD\n",
    "from sklearn.compose import ColumnTransformer\n",
    "from sklearn.pipeline import Pipeline\n",
    "from sklearn.ensemble import RandomForestRegressor, GradientBoostingRegressor\n",
    "from sklearn.model_selection import train_test_split, GridSearchCV\n",
    "from sklearn.metrics import mean_absolute_error, r2_score\n",
    "\n",
    "# NLP and Text Processing\n",
    "import spacy\n",
    "from gensim.models import Word2Vec\n",
    "from sentence_transformers import SentenceTransformer\n",
    "from textblob import TextBlob\n",
    "\n",
    "# Deep Learning (Neural Network)\n",
    "from tensorflow.keras.models import Sequential\n",
    "from tensorflow.keras.layers import Dense\n",
    "from tensorflow.keras.optimizers import Adam"
   ]
  },
  {
   "cell_type": "markdown",
   "metadata": {},
   "source": [
    "## 1. Data Loading and Cleaning"
   ]
  },
  {
   "cell_type": "code",
   "execution_count": 2,
   "metadata": {},
   "outputs": [
    {
     "name": "stdout",
     "output_type": "stream",
     "text": [
      "Merged dataset shape: (1562, 20)\n",
      "Null values:\n",
      "conversationTitle        0\n",
      "UpdatedAt                0\n",
      "Prompt                   0\n",
      "source                   0\n",
      "issueTitle               0\n",
      "ListOfCode               0\n",
      "mentionText              0\n",
      "RepoLanguage           123\n",
      "Answer                   0\n",
      "ClosedAt               995\n",
      "Detected_Language        1\n",
      "CreatedAt                0\n",
      "sourceURL                0\n",
      "conversation_id          0\n",
      "Number                   0\n",
      "numPrompts               0\n",
      "mentionProperty          0\n",
      "RepoName                 0\n",
      "issueDesc                0\n",
      "conversation_length      0\n",
      "dtype: int64\n"
     ]
    }
   ],
   "source": [
    "def clean_and_merge_data(discussion_df, issue_df):\n",
    "    \"\"\"\n",
    "    Merge discussion and issue datasets, process date columns, add a conversation length column,\n",
    "    and remove duplicates.\n",
    "    \"\"\"\n",
    "    # Add source prefix to distinguish conversation IDs\n",
    "    discussion_df['conversation_id'] = 'discussion_' + discussion_df['conversation_id'].astype(str)\n",
    "    issue_df['conversation_id'] = 'issue_' + issue_df['conversation_id'].astype(str)\n",
    "\n",
    "    # Add source column\n",
    "    discussion_df['source'] = 'discussion'\n",
    "    issue_df['source'] = 'issue'\n",
    "\n",
    "    # Select common columns and merge datasets\n",
    "    common_columns = list(set(discussion_df.columns).intersection(set(issue_df.columns)))\n",
    "    merged_df = pd.concat([discussion_df[common_columns], issue_df[common_columns]], ignore_index=True)\n",
    "\n",
    "    # Convert date columns to datetime format\n",
    "    date_columns = ['CreatedAt', 'UpdatedAt', 'ClosedAt']\n",
    "    for col in date_columns:\n",
    "        merged_df[col] = pd.to_datetime(merged_df[col], errors='coerce')\n",
    "\n",
    "    # Calculate conversation length based on numPrompts\n",
    "    merged_df['conversation_length'] = merged_df['numPrompts'].fillna(0).astype(int)\n",
    "\n",
    "    # Remove duplicate rows to avoid redundancy\n",
    "    merged_df.drop_duplicates(keep='first', inplace=True)\n",
    "\n",
    "    # Fill missing text values with an empty string\n",
    "    text_columns = ['Prompt', 'Answer', 'conversationTitle', 'issueDesc', 'issueTitle']\n",
    "    merged_df[text_columns] = merged_df[text_columns].fillna('')\n",
    "\n",
    "    print(f\"Merged dataset shape: {merged_df.shape}\")\n",
    "    print(f\"Null values:\\n{merged_df.isnull().sum()}\")\n",
    "    \n",
    "    return merged_df\n",
    "\n",
    "# Load datasets from CSV files\n",
    "discussion_df = pd.read_csv('../data/data_clean/discussiondata_cleaned.csv')\n",
    "issue_df = pd.read_csv('../data/data_clean/issuedata_cleaned.csv')\n",
    "\n",
    "# Clean and merge the data\n",
    "merged_df = clean_and_merge_data(discussion_df, issue_df)"
   ]
  },
  {
   "cell_type": "markdown",
   "metadata": {},
   "source": [
    "## 2. Code Extraction from Text"
   ]
  },
  {
   "cell_type": "code",
   "execution_count": 3,
   "metadata": {},
   "outputs": [],
   "source": [
    "def extract_code(text):\n",
    "    \"\"\"\n",
    "    Extract code snippets using regex. It first looks for triple backticks and then for indented lines.\n",
    "    \"\"\"\n",
    "    if pd.isna(text) or not isinstance(text, str):\n",
    "        return \"No code found in input\"\n",
    "\n",
    "    # Look for code blocks enclosed in triple backticks\n",
    "    match = re.findall(r\"```(?:\\w+)?\\n?(.*?)\\n?```\", text, re.DOTALL)\n",
    "    if match:\n",
    "        return \"\\n\".join(match).strip()\n",
    "\n",
    "    # Look for indented code blocks (4+ spaces or tabs)\n",
    "    match = re.findall(r\"(?m)^(?:\\s{4,}|\\t+)(.*)\", text)\n",
    "    return \"\\n\".join(match).strip() if match else \"No code found in input\"\n",
    "\n",
    "# Apply code extraction to both 'Prompt' and 'Answer' columns\n",
    "merged_df['extractedCode_Prompt'] = merged_df['Prompt'].apply(extract_code)\n",
    "merged_df['extractedCode_Answer'] = merged_df['Answer'].apply(extract_code)"
   ]
  },
  {
   "cell_type": "markdown",
   "metadata": {},
   "source": [
    "## 3. Feature Engineering"
   ]
  },
  {
   "cell_type": "code",
   "execution_count": 4,
   "metadata": {},
   "outputs": [
    {
     "name": "stderr",
     "output_type": "stream",
     "text": [
      "C:\\Users\\vidal\\AppData\\Local\\Temp\\ipykernel_30464\\25955763.py:16: FutureWarning: A value is trying to be set on a copy of a DataFrame or Series through chained assignment using an inplace method.\n",
      "The behavior will change in pandas 3.0. This inplace method will never work because the intermediate object on which we are setting values always behaves as a copy.\n",
      "\n",
      "For example, when doing 'df[col].method(value, inplace=True)', try using 'df.method({col: value}, inplace=True)' or df[col] = df[col].method(value) instead, to perform the operation inplace on the original object.\n",
      "\n",
      "\n",
      "  merged_df['RepoLanguage'].fillna(\"Unknown\", inplace=True)\n"
     ]
    }
   ],
   "source": [
    "# Text Length Features\n",
    "merged_df['prompt_length'] = merged_df['Prompt'].apply(lambda x: len(x.split()))\n",
    "merged_df['answer_length'] = merged_df['Answer'].apply(lambda x: len(x.split()))\n",
    "merged_df['prompt_char_length'] = merged_df['Prompt'].apply(len)\n",
    "merged_df['answer_char_length'] = merged_df['Answer'].apply(len)\n",
    "\n",
    "# Code Presence Features\n",
    "merged_df['has_code_prompt'] = merged_df['extractedCode_Prompt'].apply(lambda x: 1 if x != \"No code found in input\" else 0)\n",
    "merged_df['has_code_answer'] = merged_df['extractedCode_Answer'].apply(lambda x: 1 if x != \"No code found in input\" else 0)\n",
    "\n",
    "# Sentiment Analysis using TextBlob\n",
    "merged_df['prompt_sentiment'] = merged_df['Prompt'].apply(lambda x: TextBlob(x).sentiment.polarity)\n",
    "merged_df['answer_sentiment'] = merged_df['Answer'].apply(lambda x: TextBlob(x).sentiment.polarity)\n",
    "\n",
    "# Fill missing RepoLanguage values before encoding\n",
    "merged_df['RepoLanguage'].fillna(\"Unknown\", inplace=True)\n",
    "\n",
    "# Label Encoding for Categorical Variables\n",
    "lang_encoder = LabelEncoder()\n",
    "merged_df['RepoLanguage_encoded'] = lang_encoder.fit_transform(merged_df['RepoLanguage'].astype(str))\n",
    "merged_df['Detected_Language_encoded'] = lang_encoder.fit_transform(merged_df['Detected_Language'].astype(str))"
   ]
  },
  {
   "cell_type": "markdown",
   "metadata": {},
   "source": [
    "## 4. NLP Feature Extraction"
   ]
  },
  {
   "cell_type": "code",
   "execution_count": 5,
   "metadata": {},
   "outputs": [],
   "source": [
    "# Load the small English model from spaCy\n",
    "nlp = spacy.load(\"en_core_web_sm\")\n",
    "\n",
    "def extract_nlp_features(text):\n",
    "    \"\"\"\n",
    "    Extract linguistic features from text using spaCy:\n",
    "    - Number of words, nouns, verbs, adjectives\n",
    "    - Lexical diversity (unique word ratio)\n",
    "    - Number of named entities\n",
    "    \"\"\"\n",
    "    doc = nlp(text)\n",
    "    num_words = len(doc)\n",
    "    num_nouns = sum(1 for token in doc if token.pos_ == \"NOUN\")\n",
    "    num_verbs = sum(1 for token in doc if token.pos_ == \"VERB\")\n",
    "    num_adj = sum(1 for token in doc if token.pos_ == \"ADJ\")\n",
    "    unique_words = set(token.text.lower() for token in doc if token.is_alpha)\n",
    "    lexical_diversity = len(unique_words) / num_words if num_words > 0 else 0\n",
    "    num_entities = len(doc.ents)\n",
    "    return num_words, num_nouns, num_verbs, num_adj, lexical_diversity, num_entities\n",
    "\n",
    "# Apply the NLP feature extraction function on the 'Prompt' column\n",
    "nlp_features = merged_df['Prompt'].apply(extract_nlp_features)\n",
    "merged_df[['num_words', 'num_nouns', 'num_verbs', 'num_adj', 'lexical_diversity', 'num_entities']] = pd.DataFrame(nlp_features.tolist(), index=merged_df.index)\n",
    "\n",
    "# Additional Feature Engineering\n",
    "merged_df['question_marks'] = merged_df['Prompt'].apply(lambda x: x.count('?'))\n",
    "merged_df['readability_score'] = merged_df['Prompt'].apply(lambda x: TextBlob(x).sentiment.subjectivity)\n",
    "merged_df['sentence_length_variation'] = abs(merged_df['prompt_length'] - merged_df['answer_length'])\n",
    "merged_df['code_presence_ratio'] = (merged_df['has_code_prompt'] + merged_df['has_code_answer']) / 2\n"
   ]
  },
  {
   "cell_type": "markdown",
   "metadata": {},
   "source": [
    "## 5. Embeddings and Topic Modeling"
   ]
  },
  {
   "cell_type": "code",
   "execution_count": 6,
   "metadata": {},
   "outputs": [],
   "source": [
    "# Word2Vec Embedding for Prompts\n",
    "tokenized_prompts = merged_df['Prompt'].apply(lambda x: x.split())\n",
    "w2v_model = Word2Vec(sentences=tokenized_prompts, vector_size=100, window=5, min_count=2, workers=4)\n",
    "merged_df['w2v_prompt_vector'] = merged_df['Prompt'].apply(\n",
    "    lambda x: np.mean([w2v_model.wv[word] for word in x.split() if word in w2v_model.wv] or [np.zeros(100)], axis=0)\n",
    ")\n",
    "\n",
    "# Sentence Embedding using SentenceTransformer\n",
    "sent_transformer = SentenceTransformer('all-MiniLM-L6-v2')\n",
    "merged_df['sentence_embedding'] = merged_df['Prompt'].apply(lambda x: sent_transformer.encode(x))\n",
    "\n",
    "# Topic Modeling with LDA\n",
    "vectorizer = CountVectorizer(max_df=0.95, min_df=2, stop_words='english')\n",
    "dtm = vectorizer.fit_transform(merged_df['Prompt'])\n",
    "lda_model = LatentDirichletAllocation(n_components=10, random_state=42)\n",
    "lda_topics = lda_model.fit_transform(dtm)\n",
    "merged_df['topic_lda'] = lda_topics.argmax(axis=1)"
   ]
  },
  {
   "cell_type": "markdown",
   "metadata": {},
   "source": [
    "## 6. Model Training and Evaluation"
   ]
  },
  {
   "cell_type": "code",
   "execution_count": 7,
   "metadata": {},
   "outputs": [],
   "source": [
    "# Define the list of features to use for training\n",
    "features = [\n",
    "    'prompt_length', 'answer_length', 'prompt_sentiment', 'answer_sentiment',\n",
    "    'num_words', 'num_nouns', 'num_verbs', 'num_adj', 'lexical_diversity', 'num_entities',\n",
    "    'question_marks', 'readability_score', 'sentence_length_variation', 'code_presence_ratio',\n",
    "    'topic_lda', 'RepoLanguage_encoded', 'Detected_Language_encoded'\n",
    "]\n",
    "\n",
    "# Set X (features) and y (target)\n",
    "X = merged_df[features]\n",
    "y = merged_df['conversation_length']  # Target variable\n",
    "\n",
    "# Split the data into training and testing sets\n",
    "X_train, X_test, y_train, y_test = train_test_split(X, y, test_size=0.2, random_state=42)"
   ]
  },
  {
   "cell_type": "markdown",
   "metadata": {},
   "source": [
    "### Random Forest"
   ]
  },
  {
   "cell_type": "code",
   "execution_count": 8,
   "metadata": {},
   "outputs": [
    {
     "name": "stdout",
     "output_type": "stream",
     "text": [
      "Random Forest MAE: 9.682567701201886, R²: 0.3454055716149178\n"
     ]
    }
   ],
   "source": [
    "rf_model = RandomForestRegressor(n_estimators=100, random_state=42)\n",
    "rf_model.fit(X_train, y_train)\n",
    "rf_preds = rf_model.predict(X_test)\n",
    "rf_mae = mean_absolute_error(y_test, rf_preds)\n",
    "rf_r2 = r2_score(y_test, rf_preds)\n",
    "print(f\"Random Forest MAE: {rf_mae}, R²: {rf_r2}\")"
   ]
  },
  {
   "cell_type": "markdown",
   "metadata": {},
   "source": [
    "### Gradient Boosting with Grid Search"
   ]
  },
  {
   "cell_type": "code",
   "execution_count": 9,
   "metadata": {},
   "outputs": [
    {
     "name": "stdout",
     "output_type": "stream",
     "text": [
      "Best parameters: {'learning_rate': 0.01, 'max_depth': 7, 'n_estimators': 300}\n",
      "Gradient Boosting MAE: 9.977390605829664, R²: 0.315049926230198\n"
     ]
    }
   ],
   "source": [
    "param_grid = {\n",
    "    'n_estimators': [100, 200, 300],\n",
    "    'learning_rate': [0.01, 0.1, 0.2],\n",
    "    'max_depth': [3, 5, 7]\n",
    "}\n",
    "\n",
    "grid_search = GridSearchCV(GradientBoostingRegressor(random_state=42), param_grid, cv=5, scoring='neg_mean_absolute_error')\n",
    "grid_search.fit(X_train, y_train)\n",
    "print(f\"Best parameters: {grid_search.best_params_}\")\n",
    "\n",
    "best_gb_model = grid_search.best_estimator_\n",
    "gb_preds = best_gb_model.predict(X_test)\n",
    "gb_mae = mean_absolute_error(y_test, gb_preds)\n",
    "gb_r2 = r2_score(y_test, gb_preds)\n",
    "print(f\"Gradient Boosting MAE: {gb_mae}, R²: {gb_r2}\")"
   ]
  },
  {
   "cell_type": "markdown",
   "metadata": {},
   "source": [
    "### Neural Network Model"
   ]
  },
  {
   "cell_type": "code",
   "execution_count": 10,
   "metadata": {},
   "outputs": [
    {
     "name": "stderr",
     "output_type": "stream",
     "text": [
      "c:\\Users\\vidal\\miniconda3\\Lib\\site-packages\\keras\\src\\layers\\core\\dense.py:87: UserWarning: Do not pass an `input_shape`/`input_dim` argument to a layer. When using Sequential models, prefer using an `Input(shape)` object as the first layer in the model instead.\n",
      "  super().__init__(activity_regularizer=activity_regularizer, **kwargs)\n"
     ]
    },
    {
     "name": "stdout",
     "output_type": "stream",
     "text": [
      "Epoch 1/50\n",
      "\u001b[1m79/79\u001b[0m \u001b[32m━━━━━━━━━━━━━━━━━━━━\u001b[0m\u001b[37m\u001b[0m \u001b[1m2s\u001b[0m 6ms/step - loss: 13.0082 - val_loss: 12.0653\n",
      "Epoch 2/50\n",
      "\u001b[1m79/79\u001b[0m \u001b[32m━━━━━━━━━━━━━━━━━━━━\u001b[0m\u001b[37m\u001b[0m \u001b[1m0s\u001b[0m 3ms/step - loss: 12.0596 - val_loss: 11.8639\n",
      "Epoch 3/50\n",
      "\u001b[1m79/79\u001b[0m \u001b[32m━━━━━━━━━━━━━━━━━━━━\u001b[0m\u001b[37m\u001b[0m \u001b[1m0s\u001b[0m 3ms/step - loss: 12.0310 - val_loss: 11.8285\n",
      "Epoch 4/50\n",
      "\u001b[1m79/79\u001b[0m \u001b[32m━━━━━━━━━━━━━━━━━━━━\u001b[0m\u001b[37m\u001b[0m \u001b[1m0s\u001b[0m 3ms/step - loss: 11.3792 - val_loss: 12.1997\n",
      "Epoch 5/50\n",
      "\u001b[1m79/79\u001b[0m \u001b[32m━━━━━━━━━━━━━━━━━━━━\u001b[0m\u001b[37m\u001b[0m \u001b[1m0s\u001b[0m 3ms/step - loss: 11.9910 - val_loss: 11.7085\n",
      "Epoch 6/50\n",
      "\u001b[1m79/79\u001b[0m \u001b[32m━━━━━━━━━━━━━━━━━━━━\u001b[0m\u001b[37m\u001b[0m \u001b[1m0s\u001b[0m 4ms/step - loss: 11.7394 - val_loss: 11.5308\n",
      "Epoch 7/50\n",
      "\u001b[1m79/79\u001b[0m \u001b[32m━━━━━━━━━━━━━━━━━━━━\u001b[0m\u001b[37m\u001b[0m \u001b[1m0s\u001b[0m 3ms/step - loss: 12.0174 - val_loss: 11.6850\n",
      "Epoch 8/50\n",
      "\u001b[1m79/79\u001b[0m \u001b[32m━━━━━━━━━━━━━━━━━━━━\u001b[0m\u001b[37m\u001b[0m \u001b[1m0s\u001b[0m 3ms/step - loss: 11.9353 - val_loss: 11.5389\n",
      "Epoch 9/50\n",
      "\u001b[1m79/79\u001b[0m \u001b[32m━━━━━━━━━━━━━━━━━━━━\u001b[0m\u001b[37m\u001b[0m \u001b[1m0s\u001b[0m 4ms/step - loss: 11.9625 - val_loss: 11.5973\n",
      "Epoch 10/50\n",
      "\u001b[1m79/79\u001b[0m \u001b[32m━━━━━━━━━━━━━━━━━━━━\u001b[0m\u001b[37m\u001b[0m \u001b[1m0s\u001b[0m 4ms/step - loss: 12.2863 - val_loss: 12.1704\n",
      "Epoch 11/50\n",
      "\u001b[1m79/79\u001b[0m \u001b[32m━━━━━━━━━━━━━━━━━━━━\u001b[0m\u001b[37m\u001b[0m \u001b[1m0s\u001b[0m 3ms/step - loss: 11.4539 - val_loss: 11.9652\n",
      "Epoch 12/50\n",
      "\u001b[1m79/79\u001b[0m \u001b[32m━━━━━━━━━━━━━━━━━━━━\u001b[0m\u001b[37m\u001b[0m \u001b[1m0s\u001b[0m 3ms/step - loss: 11.5957 - val_loss: 11.9212\n",
      "Epoch 13/50\n",
      "\u001b[1m79/79\u001b[0m \u001b[32m━━━━━━━━━━━━━━━━━━━━\u001b[0m\u001b[37m\u001b[0m \u001b[1m0s\u001b[0m 4ms/step - loss: 11.0206 - val_loss: 11.9046\n",
      "Epoch 14/50\n",
      "\u001b[1m79/79\u001b[0m \u001b[32m━━━━━━━━━━━━━━━━━━━━\u001b[0m\u001b[37m\u001b[0m \u001b[1m0s\u001b[0m 3ms/step - loss: 11.0973 - val_loss: 11.8505\n",
      "Epoch 15/50\n",
      "\u001b[1m79/79\u001b[0m \u001b[32m━━━━━━━━━━━━━━━━━━━━\u001b[0m\u001b[37m\u001b[0m \u001b[1m0s\u001b[0m 4ms/step - loss: 10.8167 - val_loss: 11.7414\n",
      "Epoch 16/50\n",
      "\u001b[1m79/79\u001b[0m \u001b[32m━━━━━━━━━━━━━━━━━━━━\u001b[0m\u001b[37m\u001b[0m \u001b[1m0s\u001b[0m 4ms/step - loss: 10.9284 - val_loss: 11.7754\n",
      "Epoch 17/50\n",
      "\u001b[1m79/79\u001b[0m \u001b[32m━━━━━━━━━━━━━━━━━━━━\u001b[0m\u001b[37m\u001b[0m \u001b[1m0s\u001b[0m 4ms/step - loss: 10.7574 - val_loss: 11.8132\n",
      "Epoch 18/50\n",
      "\u001b[1m79/79\u001b[0m \u001b[32m━━━━━━━━━━━━━━━━━━━━\u001b[0m\u001b[37m\u001b[0m \u001b[1m0s\u001b[0m 4ms/step - loss: 11.3930 - val_loss: 11.8336\n",
      "Epoch 19/50\n",
      "\u001b[1m79/79\u001b[0m \u001b[32m━━━━━━━━━━━━━━━━━━━━\u001b[0m\u001b[37m\u001b[0m \u001b[1m0s\u001b[0m 3ms/step - loss: 11.3091 - val_loss: 12.2599\n",
      "Epoch 20/50\n",
      "\u001b[1m79/79\u001b[0m \u001b[32m━━━━━━━━━━━━━━━━━━━━\u001b[0m\u001b[37m\u001b[0m \u001b[1m0s\u001b[0m 4ms/step - loss: 10.7940 - val_loss: 11.8879\n",
      "Epoch 21/50\n",
      "\u001b[1m79/79\u001b[0m \u001b[32m━━━━━━━━━━━━━━━━━━━━\u001b[0m\u001b[37m\u001b[0m \u001b[1m0s\u001b[0m 5ms/step - loss: 10.6121 - val_loss: 12.0088\n",
      "Epoch 22/50\n",
      "\u001b[1m79/79\u001b[0m \u001b[32m━━━━━━━━━━━━━━━━━━━━\u001b[0m\u001b[37m\u001b[0m \u001b[1m0s\u001b[0m 3ms/step - loss: 10.3662 - val_loss: 12.3414\n",
      "Epoch 23/50\n",
      "\u001b[1m79/79\u001b[0m \u001b[32m━━━━━━━━━━━━━━━━━━━━\u001b[0m\u001b[37m\u001b[0m \u001b[1m0s\u001b[0m 4ms/step - loss: 10.7659 - val_loss: 11.8200\n",
      "Epoch 24/50\n",
      "\u001b[1m79/79\u001b[0m \u001b[32m━━━━━━━━━━━━━━━━━━━━\u001b[0m\u001b[37m\u001b[0m \u001b[1m0s\u001b[0m 3ms/step - loss: 10.4238 - val_loss: 12.1530\n",
      "Epoch 25/50\n",
      "\u001b[1m79/79\u001b[0m \u001b[32m━━━━━━━━━━━━━━━━━━━━\u001b[0m\u001b[37m\u001b[0m \u001b[1m0s\u001b[0m 3ms/step - loss: 11.1587 - val_loss: 11.9387\n",
      "Epoch 26/50\n",
      "\u001b[1m79/79\u001b[0m \u001b[32m━━━━━━━━━━━━━━━━━━━━\u001b[0m\u001b[37m\u001b[0m \u001b[1m0s\u001b[0m 3ms/step - loss: 10.1194 - val_loss: 11.9142\n",
      "Epoch 27/50\n",
      "\u001b[1m79/79\u001b[0m \u001b[32m━━━━━━━━━━━━━━━━━━━━\u001b[0m\u001b[37m\u001b[0m \u001b[1m0s\u001b[0m 4ms/step - loss: 10.7528 - val_loss: 11.6455\n",
      "Epoch 28/50\n",
      "\u001b[1m79/79\u001b[0m \u001b[32m━━━━━━━━━━━━━━━━━━━━\u001b[0m\u001b[37m\u001b[0m \u001b[1m0s\u001b[0m 3ms/step - loss: 10.6379 - val_loss: 11.6465\n",
      "Epoch 29/50\n",
      "\u001b[1m79/79\u001b[0m \u001b[32m━━━━━━━━━━━━━━━━━━━━\u001b[0m\u001b[37m\u001b[0m \u001b[1m0s\u001b[0m 3ms/step - loss: 10.1414 - val_loss: 11.7728\n",
      "Epoch 30/50\n",
      "\u001b[1m79/79\u001b[0m \u001b[32m━━━━━━━━━━━━━━━━━━━━\u001b[0m\u001b[37m\u001b[0m \u001b[1m0s\u001b[0m 4ms/step - loss: 10.8858 - val_loss: 11.7991\n",
      "Epoch 31/50\n",
      "\u001b[1m79/79\u001b[0m \u001b[32m━━━━━━━━━━━━━━━━━━━━\u001b[0m\u001b[37m\u001b[0m \u001b[1m0s\u001b[0m 3ms/step - loss: 10.6351 - val_loss: 11.8217\n",
      "Epoch 32/50\n",
      "\u001b[1m79/79\u001b[0m \u001b[32m━━━━━━━━━━━━━━━━━━━━\u001b[0m\u001b[37m\u001b[0m \u001b[1m0s\u001b[0m 5ms/step - loss: 10.8259 - val_loss: 11.5495\n",
      "Epoch 33/50\n",
      "\u001b[1m79/79\u001b[0m \u001b[32m━━━━━━━━━━━━━━━━━━━━\u001b[0m\u001b[37m\u001b[0m \u001b[1m0s\u001b[0m 4ms/step - loss: 10.3908 - val_loss: 11.3623\n",
      "Epoch 34/50\n",
      "\u001b[1m79/79\u001b[0m \u001b[32m━━━━━━━━━━━━━━━━━━━━\u001b[0m\u001b[37m\u001b[0m \u001b[1m0s\u001b[0m 4ms/step - loss: 10.5941 - val_loss: 11.5896\n",
      "Epoch 35/50\n",
      "\u001b[1m79/79\u001b[0m \u001b[32m━━━━━━━━━━━━━━━━━━━━\u001b[0m\u001b[37m\u001b[0m \u001b[1m0s\u001b[0m 3ms/step - loss: 9.8608 - val_loss: 11.7898\n",
      "Epoch 36/50\n",
      "\u001b[1m79/79\u001b[0m \u001b[32m━━━━━━━━━━━━━━━━━━━━\u001b[0m\u001b[37m\u001b[0m \u001b[1m0s\u001b[0m 4ms/step - loss: 10.5685 - val_loss: 11.9279\n",
      "Epoch 37/50\n",
      "\u001b[1m79/79\u001b[0m \u001b[32m━━━━━━━━━━━━━━━━━━━━\u001b[0m\u001b[37m\u001b[0m \u001b[1m0s\u001b[0m 3ms/step - loss: 10.2423 - val_loss: 11.3184\n",
      "Epoch 38/50\n",
      "\u001b[1m79/79\u001b[0m \u001b[32m━━━━━━━━━━━━━━━━━━━━\u001b[0m\u001b[37m\u001b[0m \u001b[1m0s\u001b[0m 4ms/step - loss: 10.2927 - val_loss: 11.4836\n",
      "Epoch 39/50\n",
      "\u001b[1m79/79\u001b[0m \u001b[32m━━━━━━━━━━━━━━━━━━━━\u001b[0m\u001b[37m\u001b[0m \u001b[1m0s\u001b[0m 3ms/step - loss: 9.8972 - val_loss: 11.5650\n",
      "Epoch 40/50\n",
      "\u001b[1m79/79\u001b[0m \u001b[32m━━━━━━━━━━━━━━━━━━━━\u001b[0m\u001b[37m\u001b[0m \u001b[1m0s\u001b[0m 3ms/step - loss: 9.8532 - val_loss: 11.0562\n",
      "Epoch 41/50\n",
      "\u001b[1m79/79\u001b[0m \u001b[32m━━━━━━━━━━━━━━━━━━━━\u001b[0m\u001b[37m\u001b[0m \u001b[1m0s\u001b[0m 3ms/step - loss: 9.1876 - val_loss: 11.2097\n",
      "Epoch 42/50\n",
      "\u001b[1m79/79\u001b[0m \u001b[32m━━━━━━━━━━━━━━━━━━━━\u001b[0m\u001b[37m\u001b[0m \u001b[1m0s\u001b[0m 3ms/step - loss: 9.9940 - val_loss: 11.2349\n",
      "Epoch 43/50\n",
      "\u001b[1m79/79\u001b[0m \u001b[32m━━━━━━━━━━━━━━━━━━━━\u001b[0m\u001b[37m\u001b[0m \u001b[1m0s\u001b[0m 4ms/step - loss: 9.6567 - val_loss: 11.6098\n",
      "Epoch 44/50\n",
      "\u001b[1m79/79\u001b[0m \u001b[32m━━━━━━━━━━━━━━━━━━━━\u001b[0m\u001b[37m\u001b[0m \u001b[1m0s\u001b[0m 3ms/step - loss: 9.5410 - val_loss: 11.7044\n",
      "Epoch 45/50\n",
      "\u001b[1m79/79\u001b[0m \u001b[32m━━━━━━━━━━━━━━━━━━━━\u001b[0m\u001b[37m\u001b[0m \u001b[1m0s\u001b[0m 3ms/step - loss: 9.9057 - val_loss: 10.9728\n",
      "Epoch 46/50\n",
      "\u001b[1m79/79\u001b[0m \u001b[32m━━━━━━━━━━━━━━━━━━━━\u001b[0m\u001b[37m\u001b[0m \u001b[1m0s\u001b[0m 3ms/step - loss: 10.3843 - val_loss: 11.8682\n",
      "Epoch 47/50\n",
      "\u001b[1m79/79\u001b[0m \u001b[32m━━━━━━━━━━━━━━━━━━━━\u001b[0m\u001b[37m\u001b[0m \u001b[1m0s\u001b[0m 3ms/step - loss: 9.8887 - val_loss: 10.9221\n",
      "Epoch 48/50\n",
      "\u001b[1m79/79\u001b[0m \u001b[32m━━━━━━━━━━━━━━━━━━━━\u001b[0m\u001b[37m\u001b[0m \u001b[1m0s\u001b[0m 3ms/step - loss: 9.8919 - val_loss: 10.8639\n",
      "Epoch 49/50\n",
      "\u001b[1m79/79\u001b[0m \u001b[32m━━━━━━━━━━━━━━━━━━━━\u001b[0m\u001b[37m\u001b[0m \u001b[1m0s\u001b[0m 4ms/step - loss: 8.8458 - val_loss: 11.3145\n",
      "Epoch 50/50\n",
      "\u001b[1m79/79\u001b[0m \u001b[32m━━━━━━━━━━━━━━━━━━━━\u001b[0m\u001b[37m\u001b[0m \u001b[1m0s\u001b[0m 3ms/step - loss: 9.5597 - val_loss: 10.7659\n",
      "\u001b[1m10/10\u001b[0m \u001b[32m━━━━━━━━━━━━━━━━━━━━\u001b[0m\u001b[37m\u001b[0m \u001b[1m0s\u001b[0m 8ms/step\n",
      "Neural Network MAE: 10.765917778015137, R²: 0.21117138862609863\n"
     ]
    }
   ],
   "source": [
    "# For the neural network, scale the features\n",
    "scaler = MinMaxScaler()\n",
    "X_train_scaled = scaler.fit_transform(X_train)\n",
    "X_test_scaled = scaler.transform(X_test)\n",
    "\n",
    "nn_model = Sequential([\n",
    "    Dense(64, activation='relu', input_shape=(X_train.shape[1],)),\n",
    "    Dense(32, activation='relu'),\n",
    "    Dense(1)  # Output layer for regression\n",
    "])\n",
    "\n",
    "nn_model.compile(optimizer=Adam(learning_rate=0.01), loss='mae')\n",
    "history = nn_model.fit(X_train_scaled, y_train, epochs=50, batch_size=16, validation_data=(X_test_scaled, y_test), verbose=1)\n",
    "nn_preds = nn_model.predict(X_test_scaled).flatten()\n",
    "nn_mae = mean_absolute_error(y_test, nn_preds)\n",
    "nn_r2 = r2_score(y_test, nn_preds)\n",
    "print(f\"Neural Network MAE: {nn_mae}, R²: {nn_r2}\")"
   ]
  },
  {
   "cell_type": "markdown",
   "metadata": {},
   "source": [
    "## 7. Results"
   ]
  },
  {
   "cell_type": "code",
   "execution_count": 11,
   "metadata": {},
   "outputs": [
    {
     "data": {
      "image/png": "[encoded data removed]",
      "text/plain": [
       "<Figure size 1200x500 with 1 Axes>"
      ]
     },
     "metadata": {},
     "output_type": "display_data"
    },
    {
     "data": {
      "image/png": "[encoded data removed]",
      "text/plain": [
       "<Figure size 1200x500 with 1 Axes>"
      ]
     },
     "metadata": {},
     "output_type": "display_data"
    },
    {
     "data": {
      "image/png": "[encoded data removed]",
      "text/plain": [
       "<Figure size 1000x600 with 1 Axes>"
      ]
     },
     "metadata": {},
     "output_type": "display_data"
    }
   ],
   "source": [
    "# Compare model performance\n",
    "models = ['Random Forest', 'Gradient Boosting', 'Neural Network']\n",
    "maes = [rf_mae, gb_mae, nn_mae]\n",
    "r2s = [rf_r2, gb_r2, nn_r2]\n",
    "\n",
    "# MAE Comparison Plot\n",
    "plt.figure(figsize=(12, 5))\n",
    "sns.barplot(x=models, y=maes)\n",
    "plt.title(\"MAE Comparison\")\n",
    "plt.xlabel(\"Model\")\n",
    "plt.ylabel(\"Mean Absolute Error\")\n",
    "plt.tight_layout()\n",
    "plt.savefig(\"mae_comparison.png\")\n",
    "plt.show()\n",
    "\n",
    "# R² Comparison Plot\n",
    "plt.figure(figsize=(12, 5))\n",
    "sns.barplot(x=models, y=r2s)\n",
    "plt.title(\"R² Comparison\")\n",
    "plt.xlabel(\"Model\")\n",
    "plt.ylabel(\"R² Score\")\n",
    "plt.tight_layout()\n",
    "plt.savefig(\"r2_comparison.png\")\n",
    "plt.show()\n",
    "\n",
    "# Residual Analysis for the Neural Network\n",
    "residuals = y_test - nn_preds\n",
    "plt.figure(figsize=(10, 6))\n",
    "sns.histplot(residuals, kde=True)\n",
    "plt.title(\"Neural Network Residuals\")\n",
    "plt.xlabel(\"Residuals\")\n",
    "plt.tight_layout()\n",
    "plt.savefig(\"nn_residuals.png\")\n",
    "plt.show()\n",
    "\n",
    "# Save the evaluation metrics to a CSV file\n",
    "results_df = pd.DataFrame({\n",
    "    'Model': models,\n",
    "    'MAE': maes,\n",
    "    'R2': r2s\n",
    "})\n",
    "results_df.to_csv(\"model_results.csv\", index=False)"
   ]
  }
 ],
 "metadata": {
  "kernelspec": {
   "display_name": "base",
   "language": "python",
   "name": "python3"
  },
  "language_info": {
   "codemirror_mode": {
    "name": "ipython",
    "version": 3
   },
   "file_extension": ".py",
   "mimetype": "text/x-python",
   "name": "python",
   "nbconvert_exporter": "python",
   "pygments_lexer": "ipython3",
   "version": "3.12.3"
  }
 },
 "nbformat": 4,
 "nbformat_minor": 2
}
